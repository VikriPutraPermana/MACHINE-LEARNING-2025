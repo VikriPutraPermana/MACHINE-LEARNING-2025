{
 "cells": [
  {
   "cell_type": "code",
   "execution_count": 5,
   "id": "65a5fb67-1f54-4769-ba24-cdc2ae622328",
   "metadata": {},
   "outputs": [
    {
     "data": {
      "text/html": [
       "<div>\n",
       "<style scoped>\n",
       "    .dataframe tbody tr th:only-of-type {\n",
       "        vertical-align: middle;\n",
       "    }\n",
       "\n",
       "    .dataframe tbody tr th {\n",
       "        vertical-align: top;\n",
       "    }\n",
       "\n",
       "    .dataframe thead th {\n",
       "        text-align: right;\n",
       "    }\n",
       "</style>\n",
       "<table border=\"1\" class=\"dataframe\">\n",
       "  <thead>\n",
       "    <tr style=\"text-align: right;\">\n",
       "      <th></th>\n",
       "      <th>Gender</th>\n",
       "      <th>Height</th>\n",
       "      <th>Weight</th>\n",
       "      <th>Index</th>\n",
       "    </tr>\n",
       "  </thead>\n",
       "  <tbody>\n",
       "    <tr>\n",
       "      <th>0</th>\n",
       "      <td>Male</td>\n",
       "      <td>174</td>\n",
       "      <td>96</td>\n",
       "      <td>4</td>\n",
       "    </tr>\n",
       "    <tr>\n",
       "      <th>1</th>\n",
       "      <td>Male</td>\n",
       "      <td>189</td>\n",
       "      <td>87</td>\n",
       "      <td>2</td>\n",
       "    </tr>\n",
       "    <tr>\n",
       "      <th>2</th>\n",
       "      <td>Female</td>\n",
       "      <td>185</td>\n",
       "      <td>110</td>\n",
       "      <td>4</td>\n",
       "    </tr>\n",
       "    <tr>\n",
       "      <th>3</th>\n",
       "      <td>Female</td>\n",
       "      <td>195</td>\n",
       "      <td>104</td>\n",
       "      <td>3</td>\n",
       "    </tr>\n",
       "    <tr>\n",
       "      <th>4</th>\n",
       "      <td>Male</td>\n",
       "      <td>149</td>\n",
       "      <td>61</td>\n",
       "      <td>3</td>\n",
       "    </tr>\n",
       "    <tr>\n",
       "      <th>...</th>\n",
       "      <td>...</td>\n",
       "      <td>...</td>\n",
       "      <td>...</td>\n",
       "      <td>...</td>\n",
       "    </tr>\n",
       "    <tr>\n",
       "      <th>495</th>\n",
       "      <td>Female</td>\n",
       "      <td>150</td>\n",
       "      <td>153</td>\n",
       "      <td>5</td>\n",
       "    </tr>\n",
       "    <tr>\n",
       "      <th>496</th>\n",
       "      <td>Female</td>\n",
       "      <td>184</td>\n",
       "      <td>121</td>\n",
       "      <td>4</td>\n",
       "    </tr>\n",
       "    <tr>\n",
       "      <th>497</th>\n",
       "      <td>Female</td>\n",
       "      <td>141</td>\n",
       "      <td>136</td>\n",
       "      <td>5</td>\n",
       "    </tr>\n",
       "    <tr>\n",
       "      <th>498</th>\n",
       "      <td>Male</td>\n",
       "      <td>150</td>\n",
       "      <td>95</td>\n",
       "      <td>5</td>\n",
       "    </tr>\n",
       "    <tr>\n",
       "      <th>499</th>\n",
       "      <td>Male</td>\n",
       "      <td>173</td>\n",
       "      <td>131</td>\n",
       "      <td>5</td>\n",
       "    </tr>\n",
       "  </tbody>\n",
       "</table>\n",
       "<p>500 rows × 4 columns</p>\n",
       "</div>"
      ],
      "text/plain": [
       "     Gender  Height  Weight  Index\n",
       "0      Male     174      96      4\n",
       "1      Male     189      87      2\n",
       "2    Female     185     110      4\n",
       "3    Female     195     104      3\n",
       "4      Male     149      61      3\n",
       "..      ...     ...     ...    ...\n",
       "495  Female     150     153      5\n",
       "496  Female     184     121      4\n",
       "497  Female     141     136      5\n",
       "498    Male     150      95      5\n",
       "499    Male     173     131      5\n",
       "\n",
       "[500 rows x 4 columns]"
      ]
     },
     "execution_count": 5,
     "metadata": {},
     "output_type": "execute_result"
    }
   ],
   "source": [
    "# membaca file csv mengeunakan pandas\n",
    "import pandas as pd\n",
    "\n",
    "df = pd.read_csv('../data/500_Person_Gender_Height_Weight_Index.csv')\n",
    "df"
   ]
  },
  {
   "cell_type": "code",
   "execution_count": 6,
   "id": "2fd60c98-b615-40e9-ba25-b305d0decdcd",
   "metadata": {},
   "outputs": [
    {
     "name": "stdout",
     "output_type": "stream",
     "text": [
      "<class 'pandas.core.frame.DataFrame'>\n",
      "RangeIndex: 500 entries, 0 to 499\n",
      "Data columns (total 4 columns):\n",
      " #   Column  Non-Null Count  Dtype \n",
      "---  ------  --------------  ----- \n",
      " 0   Gender  500 non-null    object\n",
      " 1   Height  500 non-null    int64 \n",
      " 2   Weight  500 non-null    int64 \n",
      " 3   Index   500 non-null    int64 \n",
      "dtypes: int64(3), object(1)\n",
      "memory usage: 15.8+ KB\n"
     ]
    }
   ],
   "source": [
    "#mencari info data pada file (tipe datanya, non nul count data, nama kolom)\n",
    "df.info()"
   ]
  },
  {
   "cell_type": "code",
   "execution_count": 7,
   "id": "10f84097-44f2-4ac9-add1-37a72db63012",
   "metadata": {},
   "outputs": [
    {
     "data": {
      "text/plain": [
       "np.float64(169.944)"
      ]
     },
     "execution_count": 7,
     "metadata": {},
     "output_type": "execute_result"
    }
   ],
   "source": [
    "#menghitung mean semua kolom numerik\n",
    "df['Height'].mean()"
   ]
  },
  {
   "cell_type": "code",
   "execution_count": 8,
   "id": "abb43d56-38b3-4847-8d48-b2c2b0371021",
   "metadata": {},
   "outputs": [
    {
     "data": {
      "text/plain": [
       "np.float64(170.5)"
      ]
     },
     "execution_count": 8,
     "metadata": {},
     "output_type": "execute_result"
    }
   ],
   "source": [
    "#menghitung median semua kolom numerik\n",
    "df['Height'].median()"
   ]
  },
  {
   "cell_type": "code",
   "execution_count": 9,
   "id": "85a8a249-a7df-4f5f-b102-6c76322caa0d",
   "metadata": {},
   "outputs": [
    {
     "data": {
      "text/plain": [
       "0    188\n",
       "Name: Height, dtype: int64"
      ]
     },
     "execution_count": 9,
     "metadata": {},
     "output_type": "execute_result"
    }
   ],
   "source": [
    "#mencari modus (hati-hati karena bisa lebih dari satu)\n",
    "df['Height'].mode()"
   ]
  },
  {
   "cell_type": "code",
   "execution_count": 10,
   "id": "3a4cad27-a84f-4023-a6eb-1961a0094a4d",
   "metadata": {},
   "outputs": [
    {
     "data": {
      "text/plain": [
       "Height     268.149162\n",
       "Weight    1048.633267\n",
       "Index        1.836168\n",
       "dtype: float64"
      ]
     },
     "execution_count": 10,
     "metadata": {},
     "output_type": "execute_result"
    }
   ],
   "source": [
    "#menghitung varian & standard deviasi\n",
    "df.var(numeric_only=True)"
   ]
  },
  {
   "cell_type": "code",
   "execution_count": 11,
   "id": "7d0bb147-927b-4910-8058-e9bffbb414e0",
   "metadata": {},
   "outputs": [
    {
     "data": {
      "text/plain": [
       "Height    16.375261\n",
       "Weight    32.382607\n",
       "Index      1.355053\n",
       "dtype: float64"
      ]
     },
     "execution_count": 11,
     "metadata": {},
     "output_type": "execute_result"
    }
   ],
   "source": [
    "#menghitung standar deviasi\n",
    "df.std(numeric_only=True)"
   ]
  },
  {
   "cell_type": "code",
   "execution_count": 13,
   "id": "7feba470-2852-4ced-b377-4944efd007b1",
   "metadata": {},
   "outputs": [
    {
     "name": "stdout",
     "output_type": "stream",
     "text": [
      "Q1 :  156.0\n",
      "Q3 :  184.0\n",
      "IQR :  28.0\n"
     ]
    }
   ],
   "source": [
    "#hitung kuartil pertama (Q1)\n",
    "q1 = df['Height'].quantile(0.25)\n",
    "print(\"Q1 : \", q1)\n",
    "\n",
    "#hitung kuartil ketiga (Q3)\n",
    "q3 = df['Height'].quantile(0.75)\n",
    "print(\"Q3 : \", q3)\n",
    "\n",
    "#hitung IQR (Interquartile Range)\n",
    "iqr = q3 - q1 \n",
    "print(\"IQR : \", iqr)"
   ]
  },
  {
   "cell_type": "code",
   "execution_count": 11,
   "id": "0bbba521-d145-415d-a55a-9fba7f2b2a0c",
   "metadata": {},
   "outputs": [
    {
     "name": "stdout",
     "output_type": "stream",
     "text": [
      "Statistik Deskriptif Kolom Numerik:\n",
      "           Height      Weight       Index\n",
      "count  500.000000  500.000000  500.000000\n",
      "mean   169.944000  106.000000    3.748000\n",
      "std     16.375261   32.382607    1.355053\n",
      "min    140.000000   50.000000    0.000000\n",
      "25%    156.000000   80.000000    3.000000\n",
      "50%    170.500000  106.000000    4.000000\n",
      "75%    184.000000  136.000000    5.000000\n",
      "max    199.000000  160.000000    5.000000\n"
     ]
    }
   ],
   "source": [
    "# Import library pandas\n",
    "import pandas as pd\n",
    "\n",
    "# Membaca file CSV\n",
    "df = pd.read_csv('../data/500_Person_Gender_Height_Weight_Index.csv')\n",
    "\n",
    "# Menampilkan statistik deskriptif untuk kolom numerik saja\n",
    "print(\"Statistik Deskriptif Kolom Numerik:\")\n",
    "print(df.describe())\n"
   ]
  },
  {
   "cell_type": "code",
   "execution_count": 13,
   "id": "c212ee94-bf44-48c3-bf86-42b7f8393549",
   "metadata": {},
   "outputs": [
    {
     "name": "stdout",
     "output_type": "stream",
     "text": [
      "Matriks Korelasi:\n",
      "          Height    Weight     Index\n",
      "Height  1.000000  0.000446 -0.422223\n",
      "Weight  0.000446  1.000000  0.804569\n",
      "Index  -0.422223  0.804569  1.000000\n"
     ]
    }
   ],
   "source": [
    "#menghitung matriks korelasi untuk semua kolom numerik\n",
    "correlation_matrix = df.corr(numeric_only=True)\n",
    "\n",
    "#menampilkan matriks korelasi\n",
    "print(\"Matriks Korelasi:\")\n",
    "print(correlation_matrix)"
   ]
  },
  {
   "cell_type": "code",
   "execution_count": null,
   "id": "8d44699c-7bda-4c73-b5e1-4873d035479d",
   "metadata": {},
   "outputs": [],
   "source": []
  },
  {
   "cell_type": "code",
   "execution_count": null,
   "id": "75fd51a5-31d1-4395-a7df-53a031011405",
   "metadata": {},
   "outputs": [],
   "source": []
  },
  {
   "cell_type": "code",
   "execution_count": 25,
   "id": "96efcc26-df14-4cc9-a1e6-2238c79ba745",
   "metadata": {},
   "outputs": [
    {
     "data": {
      "image/png": "[encoded data removed]",
      "text/plain": [
       "<Figure size 640x480 with 1 Axes>"
      ]
     },
     "metadata": {},
     "output_type": "display_data"
    }
   ],
   "source": [
    "import pandas as pd\n",
    "import matplotlib.pyplot as plt\n",
    "\n",
    "# Baca data\n",
    "df = pd.read_csv('../data/500_Person_Gender_Height_Weight_Index.csv')\n",
    "\n",
    "# Pastikan kolom numerik\n",
    "df['Height'] = pd.to_numeric(df['Height'], errors='coerce')\n",
    "df['Weight'] = pd.to_numeric(df['Weight'], errors='coerce')\n",
    "\n",
    "# Tampilkan boxplot\n",
    "df.boxplot(column=['Height', 'Weight'])\n",
    "plt.title('Boxplot Tinggi dan Berat Badan')\n",
    "plt.ylabel('Nilai')\n",
    "plt.show()\n"
   ]
  },
  {
   "cell_type": "code",
   "execution_count": 26,
   "id": "9bbb83cc-1f02-4907-92b9-d128a5c65c20",
   "metadata": {},
   "outputs": [
    {
     "data": {
      "image/png": "[encoded data removed]",
      "text/plain": [
       "<Figure size 640x480 with 1 Axes>"
      ]
     },
     "metadata": {},
     "output_type": "display_data"
    }
   ],
   "source": [
    "import numpy as np\n",
    "import matplotlib.pyplot as plt\n",
    "import pandas as pd\n",
    "\n",
    "# Ambil data Height\n",
    "data_height = df[\"Height\"]\n",
    "\n",
    "# Buat histogram\n",
    "n, bins, patches = plt.hist(data_height, bins=5, color='pink', edgecolor='black')\n",
    "\n",
    "# Tambahkan label\n",
    "plt.title('Histogram Nilai')\n",
    "plt.xlabel('Height')\n",
    "plt.ylabel('Frekuensi')\n",
    "\n",
    "# Tampilkan rentang frekuensi di sumbu x\n",
    "bin_centers = 0.5 * (bins[:-1] + bins[1:])\n",
    "plt.xticks(bin_centers, ['{:.0f}-{:.0f}'.format(bins[i], bins[i+1]) for i in range(len(bins)-1)])\n",
    "\n",
    "# Tampilkan histogram\n",
    "plt.show()"
   ]
  },
  {
   "cell_type": "code",
   "execution_count": 28,
   "id": "37781f59-c59c-4af6-92f7-31b53ef86441",
   "metadata": {},
   "outputs": [
    {
     "data": {
      "image/png": "[encoded data removed]",
      "text/plain": [
       "<Figure size 640x480 with 1 Axes>"
      ]
     },
     "metadata": {},
     "output_type": "display_data"
    }
   ],
   "source": [
    "import pandas as pd\n",
    "import matplotlib.pyplot as plt\n",
    "\n",
    "# Buat DataFrame contoh\n",
    "data = {\n",
    "    'Nilai1': [1, 2, 3, 4, 5, 6, 7, 8, 9, 10],\n",
    "    'Nilai2': [2, 4, 6, 8, 10, 12, 14, 16, 18, 20]\n",
    "}\n",
    "\n",
    "df2 = pd.DataFrame(data)\n",
    "\n",
    "# Buat scatter plot\n",
    "plt.scatter(df2['Nilai1'], df2['Nilai2'], color='blue', marker='o')\n",
    "\n",
    "# Tambahkan label\n",
    "plt.title('Scatter Plot Korelasi Positif')\n",
    "plt.xlabel('Nilai1')\n",
    "plt.ylabel('Nilai2')\n",
    "\n",
    "# Tambahkan grid\n",
    "plt.grid(True)\n",
    "\n",
    "# Tampilkan plot\n",
    "plt.show()"
   ]
  },
  {
   "cell_type": "code",
   "execution_count": 29,
   "id": "250dfa53-1c85-4568-8ded-14c71cd424da",
   "metadata": {},
   "outputs": [
    {
     "data": {
      "image/png": "[encoded data removed]",
      "text/plain": [
       "<Figure size 640x480 with 1 Axes>"
      ]
     },
     "metadata": {},
     "output_type": "display_data"
    }
   ],
   "source": [
    "import pandas as pd\n",
    "import matplotlib.pyplot as plt\n",
    "\n",
    "# Buat DataFrame contoh\n",
    "data = {\n",
    "    'Nilai1': [1, 2, 3, 4, 5, 6, 7, 8, 9, 10],\n",
    "    'Nilai2': [10, 9, 8, 7, 6, 5, 4, 3, 2, 1]\n",
    "}\n",
    "\n",
    "df3 = pd.DataFrame(data)\n",
    "\n",
    "# Buat scatter plot\n",
    "plt.scatter(df3['Nilai1'], df3['Nilai2'], color='red', marker='x')\n",
    "\n",
    "# Tambahkan label\n",
    "plt.title('Scatter Plot Korelasi Negatif')\n",
    "plt.xlabel('Nilai1')\n",
    "plt.ylabel('Nilai2')\n",
    "\n",
    "# Tambahkan grid\n",
    "plt.grid(True)\n",
    "\n",
    "# Tampilkan plot\n",
    "plt.show()"
   ]
  },
  {
   "cell_type": "code",
   "execution_count": null,
   "id": "93e89760-1aef-4ade-a5b0-ce620612bf3f",
   "metadata": {},
   "outputs": [],
   "source": []
  }
 ],
 "metadata": {
  "kernelspec": {
   "display_name": "Python 3 (ipykernel)",
   "language": "python",
   "name": "python3"
  },
  "language_info": {
   "codemirror_mode": {
    "name": "ipython",
    "version": 3
   },
   "file_extension": ".py",
   "mimetype": "text/x-python",
   "name": "python",
   "nbconvert_exporter": "python",
   "pygments_lexer": "ipython3",
   "version": "3.13.7"
  }
 },
 "nbformat": 4,
 "nbformat_minor": 5
}
